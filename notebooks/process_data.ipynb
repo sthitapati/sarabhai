{
 "cells": [
  {
   "cell_type": "code",
   "execution_count": 3,
   "metadata": {},
   "outputs": [],
   "source": [
    "import scipy.io\n",
    "import os, importlib\n",
    "# import matplotlib.pyplot as plt\n",
    "# import statistics\n",
    "# import scipy.stats\n",
    "# import matplotlib.patches as mpatches\n",
    "# import seaborn as sns; sns.set()\n",
    "# import tkinter as tk\n",
    "# from matplotlib import gridspec\n",
    "# import matplotlib.colors\n",
    "import numpy as np\n",
    "import pandas as pd\n",
    "import os.path, time\n",
    "import pickle"
   ]
  },
  {
   "cell_type": "code",
   "execution_count": null,
   "metadata": {},
   "outputs": [],
   "source": [
    "\n",
    "def loadmat(filename):\n",
    "    '''\n",
    "    this function should be called instead of direct spio.loadmat\n",
    "    as it cures the problem of not properly recovering python dictionaries\n",
    "    from mat files. It calls the function check keys to cure all entries\n",
    "    which are still mat-objects\n",
    "    '''\n",
    "    data = scipy.io.loadmat(filename, struct_as_record=False, squeeze_me=True)\n",
    "    return check_keys(data)\n",
    "\n",
    "def check_keys(temp_dict):\n",
    "    '''\n",
    "    checks if entries in dictionary are mat-objects. If yes\n",
    "    todict is called to change them to nested dictionaries\n",
    "    '''\n",
    "    for key in temp_dict:\n",
    "        if isinstance(temp_dict[key], scipy.io.matlab.mio5_params.mat_struct):\n",
    "            temp_dict[key] = todict(temp_dict[key])\n",
    "          \n",
    "    return temp_dict        \n",
    "\n",
    "def todict(matobj):\n",
    "    '''\n",
    "    A recursive function which constructs from matobjects nested dictionaries\n",
    "    '''\n",
    "    temp_dict = {}\n",
    "    for strg in matobj._fieldnames:\n",
    "        elem = matobj.__dict__[strg]\n",
    "        if isinstance(elem, scipy.io.matlab.mio5_params.mat_struct):\n",
    "            temp_dict[strg] = todict(elem)\n",
    "        else:\n",
    "            temp_dict[strg] = elem\n",
    "    return temp_dict\n",
    "\n",
    "def convert_nested_structs(Behav_data):\n",
    "    # Nested structures are loaded in strangly so use Francesca's function to extract the important ones:\n",
    "    if 'RawEvents' in Behav_data['SessionData']: #dont process bad data\n",
    "        Current_data = Behav_data['SessionData']['RawEvents']['Trial']\n",
    "        for trial_num, trial in enumerate(Current_data,1):\n",
    "            Current_data[trial_num-1] = todict(Current_data[trial_num-1])"
   ]
  },
  {
   "cell_type": "code",
   "execution_count": null,
   "metadata": {},
   "outputs": [],
   "source": [
    "def Import_Bpod_DataFiles(InputPath):\n",
    "    \n",
    "    '''\n",
    "    Load in all '.mat' files for a given folder and convert them to python format:\n",
    "    '''\n",
    "    Behav_Path = sorted(os.listdir(InputPath))\n",
    "    Behav_Data = {} #set up file dict\n",
    "    File_dates = []\n",
    "    Sessions = 0 # for naming each data set within the main dict\n",
    "\n",
    "    for file in Behav_Path:\n",
    "        if file[-2] == 'a': #if its a .mat and not a fig\n",
    "            if os.stat(InputPath+ file).st_size > 200000: #more thann 200kb \n",
    "                if file != '.DS_Store': #if file is not the weird hidden file \n",
    "                    print(file)\n",
    "                    Current_file = loadmat(InputPath + file)\n",
    "                    Behav_Data[Sessions] = Current_file\n",
    "                    Sessions = Sessions + 1\n",
    "                    File_dates = File_dates + [file[-19:-4]]\n",
    "    \n",
    "    return Behav_Data, Sessions, Behav_Path,File_dates"
   ]
  },
  {
   "cell_type": "code",
   "execution_count": null,
   "metadata": {},
   "outputs": [],
   "source": []
  }
 ],
 "metadata": {
  "kernelspec": {
   "display_name": "py10",
   "language": "python",
   "name": "python3"
  },
  "language_info": {
   "codemirror_mode": {
    "name": "ipython",
    "version": 3
   },
   "file_extension": ".py",
   "mimetype": "text/x-python",
   "name": "python",
   "nbconvert_exporter": "python",
   "pygments_lexer": "ipython3",
   "version": "3.11.3"
  },
  "orig_nbformat": 4
 },
 "nbformat": 4,
 "nbformat_minor": 2
}
