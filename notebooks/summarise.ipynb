{
 "cells": [
  {
   "cell_type": "markdown",
   "metadata": {},
   "source": [
    "## Import libraries"
   ]
  },
  {
   "cell_type": "code",
   "execution_count": 3,
   "metadata": {},
   "outputs": [],
   "source": [
    "import os\n",
    "import pandas as pd\n",
    "import numpy as np\n",
    "import matplotlib.pyplot as plt\n",
    "import seaborn as sns"
   ]
  },
  {
   "cell_type": "markdown",
   "metadata": {},
   "source": [
    "## Load the data"
   ]
  },
  {
   "cell_type": "code",
   "execution_count": 4,
   "metadata": {},
   "outputs": [
    {
     "name": "stdout",
     "output_type": "stream",
     "text": [
      "/home/sthitapati/Documents/sequence_data/seq_optoinhibition/output/SP153\n"
     ]
    }
   ],
   "source": [
    "animal = 'SP153'\n",
    "output_folder =  '/home/sthitapati/Documents/sequence_data/seq_optoinhibition/output'\n",
    "\n",
    "# file name\n",
    "\n",
    "folder = os.path.join(output_folder, animal)\n",
    "print(folder) \n"
   ]
  },
  {
   "cell_type": "code",
   "execution_count": 5,
   "metadata": {},
   "outputs": [
    {
     "name": "stdout",
     "output_type": "stream",
     "text": [
      "contents of the folder:\n",
      "SP153_transition_data_all_sessions.csv\n",
      "Preprocessed\n",
      "loading file ... SP153_transition_data_all_sessions.csv\n"
     ]
    }
   ],
   "source": [
    "# print contents of the folder\n",
    "print('contents of the folder:')\n",
    "for file in os.listdir(folder):\n",
    "    print(file)\n",
    "\n",
    "# load file with the name animal + _transition_data_all_sessions.csv\n",
    "\n",
    "file_name = os.path.join(animal + '_transition_data_all_sessions.csv')\n",
    "print(f'loading file ... {file_name}')"
   ]
  },
  {
   "cell_type": "code",
   "execution_count": 6,
   "metadata": {},
   "outputs": [
    {
     "name": "stdout",
     "output_type": "stream",
     "text": [
      "column names:\n",
      "Unnamed: 0\n",
      "trial_id\n",
      "transition_type\n",
      "start_poke_port\n",
      "end_poke_port\n",
      "start_poke_in_timestamp\n",
      "start_poke_out_timestamp\n",
      "end_poke_in_timestamp\n",
      "end_poke_out_timestamp\n",
      "out_in_latency\n",
      "in_in_latency\n",
      "repeat_filter\n",
      "2s_time_filter_out_in\n",
      "2s_time_filter_in_in\n",
      "opto_condition\n",
      "opto_stimulated_port\n",
      "training_level\n",
      "led_intensities_ports_2_3_4_5\n",
      "reward_amounts_ports_1_2_3_4\n",
      "cumulative_trial_id\n",
      "session_id\n",
      "date\n",
      "day\n",
      "animal_id\n",
      "group\n"
     ]
    }
   ],
   "source": [
    "# load file_name as pandas dataframe\n",
    "df = pd.read_csv(os.path.join(folder, file_name))\n",
    "# df.head()\n",
    "\n",
    "# print column names\n",
    "print('column names:')\n",
    "for col in df.columns:\n",
    "    print(col)\n"
   ]
  },
  {
   "cell_type": "code",
   "execution_count": 7,
   "metadata": {},
   "outputs": [
    {
     "name": "stdout",
     "output_type": "stream",
     "text": [
      "unique values in the column session_id:\n",
      "[ 0  1  2  3  4  5  6  7  8  9 10 11 12 13 14 15 16 17 18 19 20 21 22 23\n",
      " 24 25 26 27 28 29 30 31]\n"
     ]
    }
   ],
   "source": [
    "# print all unique values in the column 'session_id'\n",
    "\n",
    "print('unique values in the column session_id:')\n",
    "print(df['session_id'].unique())"
   ]
  },
  {
   "cell_type": "code",
   "execution_count": 8,
   "metadata": {},
   "outputs": [
    {
     "name": "stdout",
     "output_type": "stream",
     "text": [
      "<class 'pandas.core.frame.DataFrame'>\n",
      "Int64Index: 6618 entries, 89889 to 96506\n",
      "Data columns (total 25 columns):\n",
      " #   Column                         Non-Null Count  Dtype  \n",
      "---  ------                         --------------  -----  \n",
      " 0   Unnamed: 0                     6618 non-null   int64  \n",
      " 1   trial_id                       6618 non-null   int64  \n",
      " 2   transition_type                6618 non-null   int64  \n",
      " 3   start_poke_port                6618 non-null   int64  \n",
      " 4   end_poke_port                  6618 non-null   int64  \n",
      " 5   start_poke_in_timestamp        6618 non-null   float64\n",
      " 6   start_poke_out_timestamp       6618 non-null   float64\n",
      " 7   end_poke_in_timestamp          6618 non-null   float64\n",
      " 8   end_poke_out_timestamp         6618 non-null   float64\n",
      " 9   out_in_latency                 6618 non-null   float64\n",
      " 10  in_in_latency                  6618 non-null   float64\n",
      " 11  repeat_filter                  6618 non-null   int64  \n",
      " 12  2s_time_filter_out_in          6618 non-null   int64  \n",
      " 13  2s_time_filter_in_in           6618 non-null   int64  \n",
      " 14  opto_condition                 1058 non-null   float64\n",
      " 15  opto_stimulated_port           1058 non-null   float64\n",
      " 16  training_level                 6618 non-null   int64  \n",
      " 17  led_intensities_ports_2_3_4_5  6618 non-null   object \n",
      " 18  reward_amounts_ports_1_2_3_4   6618 non-null   object \n",
      " 19  cumulative_trial_id            6618 non-null   int64  \n",
      " 20  session_id                     6618 non-null   int64  \n",
      " 21  date                           6618 non-null   object \n",
      " 22  day                            6618 non-null   object \n",
      " 23  animal_id                      6618 non-null   object \n",
      " 24  group                          6618 non-null   object \n",
      "dtypes: float64(8), int64(11), object(6)\n",
      "memory usage: 1.3+ MB\n"
     ]
    }
   ],
   "source": [
    "# state which sessions would you like to summarise\n",
    "sessions_to_summarise = [30, 31]\n",
    "\n",
    "# create a new dataframe with only the sessions you want to summarise\n",
    "\n",
    "df_s = df[df['session_id'].isin(sessions_to_summarise)]\n",
    "# df_s.head()\n",
    "# df_s['session_id'].unique()\n",
    "\n",
    "df_s.info()"
   ]
  },
  {
   "cell_type": "markdown",
   "metadata": {},
   "source": [
    "## Accumulate the data into a single dataframe"
   ]
  },
  {
   "cell_type": "code",
   "execution_count": 55,
   "metadata": {},
   "outputs": [],
   "source": [
    "import pandas as pd\n",
    "import numpy as np\n",
    "\n",
    "def filter_dataframe(df, filter_sequence_from_start_port=False):\n",
    "    \"\"\"\n",
    "    This function filters a given dataframe based on specific conditions and returns a new dataframe.\n",
    "    \"\"\"\n",
    "    # List to store the updated rows\n",
    "    filtered_rows = []\n",
    "\n",
    "    # Loop through each unique animal_id\n",
    "    for animal in df['animal_id'].unique():\n",
    "        animal_df = df[df['animal_id'] == animal].copy()\n",
    "\n",
    "        # Get all unique cumulative_trial_ids for the current animal and sort them\n",
    "        unique_trial_ids = animal_df['cumulative_trial_id'].unique()\n",
    "        unique_trial_ids.sort()\n",
    "\n",
    "        for trial_id in unique_trial_ids:\n",
    "            # Filter DataFrame for specific trial\n",
    "            trial_df = animal_df[animal_df['cumulative_trial_id'] == trial_id].copy()\n",
    "\n",
    "            # Find the index of first occurrence based on filter_sequence_from_start_port\n",
    "            if filter_sequence_from_start_port:\n",
    "                trial_start_index = trial_df[trial_df['start_poke_port'] == 2].index.min()\n",
    "            else:\n",
    "                trial_start_index = trial_df.index.min()\n",
    "\n",
    "            # If there's no valid trial_start_index for the trial, just continue to the next trial\n",
    "            if pd.isna(trial_start_index):\n",
    "                continue\n",
    "\n",
    "            # Filter rows that occur at or after the trial_start_index\n",
    "            updated_trial_df = trial_df.loc[trial_start_index:].copy()\n",
    "\n",
    "            # Set reference timestamp\n",
    "            reference_timestamp = updated_trial_df.loc[trial_start_index, 'start_poke_in_timestamp']\n",
    "\n",
    "            # Calculate latency to start trial\n",
    "            latency_to_start_trial = reference_timestamp - trial_df['start_poke_in_timestamp'].iloc[0]\n",
    "\n",
    "            # Update timestamp columns\n",
    "            for timestamp_column in ['start_poke_in_timestamp', 'start_poke_out_timestamp', \n",
    "                                     'end_poke_in_timestamp', 'end_poke_out_timestamp']:\n",
    "                updated_trial_df[timestamp_column] -= reference_timestamp\n",
    "\n",
    "            # Calculate new in_in_latency and out_in_latency\n",
    "            updated_trial_df['in_in_latency'] = updated_trial_df['end_poke_in_timestamp'] - updated_trial_df['start_poke_in_timestamp']\n",
    "            updated_trial_df['out_in_latency'] = updated_trial_df['end_poke_in_timestamp'] - updated_trial_df['start_poke_out_timestamp']\n",
    "\n",
    "            # Condense the updated trial DataFrame to one row\n",
    "            condensed_row = updated_trial_df.iloc[0].copy()  # Make an explicit copy\n",
    "            array_columns = ['transition_type', 'start_poke_port', 'end_poke_port', \n",
    "                            'start_poke_in_timestamp', 'start_poke_out_timestamp', \n",
    "                            'end_poke_in_timestamp', 'end_poke_out_timestamp', \n",
    "                            'out_in_latency', 'in_in_latency', 'repeat_filter', \n",
    "                            '2s_time_filter_out_in', '2s_time_filter_in_in', \n",
    "                            'training_level']\n",
    "            for column in array_columns:\n",
    "                condensed_row[column] = np.array(updated_trial_df[column])\n",
    "\n",
    "            condensed_row['latency_to_start_trial'] = latency_to_start_trial\n",
    "            condensed_row['opto_condition'] = updated_trial_df['opto_condition'].iloc[0] if condensed_row['opto_stimulated_port'] != np.nan else np.nan\n",
    "            condensed_row['opto_stimulated_port'] = updated_trial_df['opto_stimulated_port'].iloc[0] if condensed_row['opto_stimulated_port'] != np.nan else np.nan\n",
    "\n",
    "            # Append condensed row to the filtered DataFrame\n",
    "            filtered_rows.append(condensed_row)\n",
    "\n",
    "\n",
    "    # Convert list of rows to DataFrame\n",
    "    filtered_df = pd.DataFrame(filtered_rows)\n",
    "\n",
    "    # Reset index of the new DataFrame\n",
    "    filtered_df.reset_index(drop=True, inplace=True)\n",
    "\n",
    "    # Drop unnecessary columns\n",
    "    filtered_df.drop(['led_intensities_ports_2_3_4_5', 'reward_amounts_ports_1_2_3_4'], axis=1, inplace=True)\n",
    "\n",
    "    # # replace empty rows in opto_condition and opto_stimulated_port with NaN\n",
    "\n",
    "\n",
    "\n",
    "    # Return the filtered DataFrame\n",
    "\n",
    "    return filtered_df\n"
   ]
  },
  {
   "cell_type": "code",
   "execution_count": 56,
   "metadata": {},
   "outputs": [],
   "source": [
    "\n",
    "filtered_df_s = filter_dataframe(df_s, filter_sequence_from_start_port=False)"
   ]
  },
  {
   "cell_type": "markdown",
   "metadata": {},
   "source": [
    "## Summarise the number of non-stimulated and stimulated trials"
   ]
  },
  {
   "cell_type": "code",
   "execution_count": 57,
   "metadata": {},
   "outputs": [
    {
     "name": "stdout",
     "output_type": "stream",
     "text": [
      "summarizing opto-stimulation of 2 sessions: [30, 31]\n",
      "\n",
      "number of non-stimulated trials: 855\n",
      "number of trials with opto_stimulated_port = 1: 36\n",
      "number of trials with opto_stimulated_port = 2: 32\n",
      "number of trials with opto_stimulated_port = 3: 42\n",
      "number of trials with opto_stimulated_port = 4: 30\n"
     ]
    }
   ],
   "source": [
    "# print in a nice format the counts of trials for each unique value in the column 'opto_stimulated_port'\n",
    "# e.g. number of trials with opto_stimulated_port = 1: 10\n",
    "#      number of trials with opto_stimulated_port = 2: 20\n",
    "#      number of trials with opto_stimulated_port = nan: 30\n",
    "# Assuming filtered_df_s is your DataFrame and 'opto_stimulated_port' is the column of interest.\n",
    "\n",
    "print(f'summarizing opto-stimulation of {len(sessions_to_summarise)} sessions: {sessions_to_summarise}', end='\\n\\n')\n",
    "\n",
    "# Count of non-stimulated (NaN) trials\n",
    "non_stimulated_count = filtered_df_s['opto_stimulated_port'].isna().sum()\n",
    "print('number of non-stimulated trials:', non_stimulated_count)\n",
    "\n",
    "# Count of trials for each unique value in 'opto_stimulated_port'\n",
    "value_counts = filtered_df_s['opto_stimulated_port'].value_counts(dropna=False)\n",
    "for port in range(1, 5):\n",
    "    print(f'number of trials with opto_stimulated_port = {port}:', value_counts.get(port, 0))"
   ]
  },
  {
   "cell_type": "code",
   "execution_count": 30,
   "metadata": {},
   "outputs": [
    {
     "name": "stdout",
     "output_type": "stream",
     "text": [
      "unique values in opto_stimulated_port column: [nan]\n"
     ]
    },
    {
     "data": {
      "image/png": "[encoded data removed]",
      "text/plain": [
       "<Figure size 500x500 with 1 Axes>"
      ]
     },
     "metadata": {},
     "output_type": "display_data"
    },
    {
     "name": "stdout",
     "output_type": "stream",
     "text": [
      "Vertical red line, 85th percentile of out_in_latency: 0.5933099999999598\n"
     ]
    }
   ],
   "source": [
    "## Plot the distribution of out_in_latency and time_in_ports only in the non-stimulated trials\n",
    "## time_in_ports = in_in_latency - out_in_latency\n",
    "\n",
    "\n",
    "# plot the distribution of out_in_latency in df_s\n",
    "\n",
    "# remove rows with the opto_stimulated_port is equal to 1, 2, 3 or 4\n",
    "\n",
    "df_s_filtered = df_s[df_s['opto_stimulated_port'].isin([1, 2, 3, 4]) == False]\n",
    "\n",
    "print(f'unique values in opto_stimulated_port column: {df_s_filtered[\"opto_stimulated_port\"].unique()}')\n",
    "\n",
    "# remove rows with \n",
    "\n",
    "\n",
    "# remove rows with repeat_filter = 0\n",
    "df_s_filtered = df_s_filtered[df_s_filtered['repeat_filter'] == 1]\n",
    "\n",
    "# out_in_latency = df_s_filtered['out_in_latency']\n",
    "out_in_latency = df_s_filtered['out_in_latency']\n",
    "\n",
    "# remove nan values    filtered_df['opto_condition'].replace('', np.nan, inplace=True)\n",
    "    filtered_df['opto_stimulated_port'].replace('', np.nan, inplace=True)\n",
    "\n",
    "out_in_latency = out_in_latency.dropna()\n",
    "\n",
    "# remove outliers (anything above 5s)\n",
    "out_in_latency = out_in_latency[out_in_latency < 5]\n",
    "\n",
    "sns.displot(out_in_latency, bins=100)\n",
    "\n",
    "\n",
    "# draw a vertical line at the 75th percentile in the same plot\n",
    "\n",
    "plt.axvline(x=np.percentile(out_in_latency,85), color='magenta')\n",
    "plt.show()\n",
    "\n",
    "print('Vertical red line, 85th percentile of out_in_latency:', np.percentile(out_in_latency,85))"
   ]
  },
  {
   "cell_type": "code",
   "execution_count": 28,
   "metadata": {},
   "outputs": [
    {
     "data": {
      "image/png": "[encoded data removed]",
      "text/plain": [
       "<Figure size 500x500 with 1 Axes>"
      ]
     },
     "metadata": {},
     "output_type": "display_data"
    },
    {
     "name": "stdout",
     "output_type": "stream",
     "text": [
      "Vertical red line, 95th percentile of time_in_ports: 0.15994500000007852\n"
     ]
    }
   ],
   "source": [
    "# plot the distribution of time_in_ports in df_s\n",
    "\n",
    "# rdf_s_no_repeat is already defined above\n",
    "# time_in_ports = df_s_filtered['in_in_latency'] - df_s_filtered['out_in_latency']\n",
    "\n",
    "time_in_ports = df_s_filtered['in_in_latency'] - df_s_filtered['out_in_latency']\n",
    "\n",
    "# remove nan values\n",
    "time_in_ports = time_in_ports.dropna()\n",
    "\n",
    "# remove outliers (anything more than 1 second, this should empirically remove most of the outliers in time_in_ports at reward ports)\n",
    "time_in_ports = time_in_ports[time_in_ports < 1]\n",
    "\n",
    "sns.displot(time_in_ports, bins=100)\n",
    "\n",
    "# draw a vertical line at the 25th percentile in the same plot\n",
    "\n",
    "plt.axvline(x=np.percentile(time_in_ports, 95), color='cyan')\n",
    "\n",
    "plt.show()\n",
    "\n",
    "print('Vertical red line, 95th percentile of time_in_ports:', np.percentile(time_in_ports, 95))"
   ]
  }
 ],
 "metadata": {
  "kernelspec": {
   "display_name": "py10",
   "language": "python",
   "name": "python3"
  },
  "language_info": {
   "codemirror_mode": {
    "name": "ipython",
    "version": 3
   },
   "file_extension": ".py",
   "mimetype": "text/x-python",
   "name": "python",
   "nbconvert_exporter": "python",
   "pygments_lexer": "ipython3",
   "version": "3.11.4"
  }
 },
 "nbformat": 4,
 "nbformat_minor": 2
}
